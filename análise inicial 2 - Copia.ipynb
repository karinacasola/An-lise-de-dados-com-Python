{
 "cells": [
  {
   "cell_type": "raw",
   "metadata": {},
   "source": [
    "# Aqui serão apresentados alguns recursos que a biblioteca Pandas propicia para a análise inicial dos dados."
   ]
  },
  {
   "cell_type": "markdown",
   "metadata": {},
   "source": [
    "importação das bibliotecas"
   ]
  },
  {
   "cell_type": "code",
   "execution_count": 8,
   "metadata": {},
   "outputs": [],
   "source": [
    "import pandas as pd"
   ]
  },
  {
   "cell_type": "markdown",
   "metadata": {},
   "source": [
    "Biblioteca comumente usada para plotagem de gráficos"
   ]
  },
  {
   "cell_type": "code",
   "execution_count": 9,
   "metadata": {},
   "outputs": [],
   "source": [
    "import matplotlib"
   ]
  },
  {
   "cell_type": "markdown",
   "metadata": {},
   "source": [
    "Bibliotecas para leitura de arquivos do diretório com o mapeamento do padrão do arquivo."
   ]
  },
  {
   "cell_type": "code",
   "execution_count": 10,
   "metadata": {},
   "outputs": [],
   "source": [
    "import os"
   ]
  },
  {
   "cell_type": "code",
   "execution_count": 11,
   "metadata": {},
   "outputs": [],
   "source": [
    "import glob"
   ]
  },
  {
   "cell_type": "markdown",
   "metadata": {},
   "source": [
    "Biblioteca para plotagem de gráficos interativos Plotly na versão offline"
   ]
  },
  {
   "cell_type": "code",
   "execution_count": 44,
   "metadata": {},
   "outputs": [],
   "source": [
    "import plotly\n",
    "import chart_studio.plotly as ct\n",
    "import plotly.graph_objs as go\n",
    "import plotly.offline as py\n",
    "from plotly.offline import iplot\n"
   ]
  },
  {
   "cell_type": "raw",
   "metadata": {},
   "source": [
    "# Este trecho é importante para se concatenar vários arquivos de um mesmo formato dentro de um diretório, utilizando a biblioteca Pandas e Glob."
   ]
  },
  {
   "cell_type": "code",
   "execution_count": 13,
   "metadata": {},
   "outputs": [],
   "source": [
    "os.chdir(\"/Users/LENOVO/Documents/Evasao/ALCC\")"
   ]
  },
  {
   "cell_type": "code",
   "execution_count": 14,
   "metadata": {},
   "outputs": [],
   "source": [
    "extension = 'xlsx'\n",
    "all_filenames = [i for i in glob.glob('*.{}'.format(extension))]"
   ]
  },
  {
   "cell_type": "code",
   "execution_count": 15,
   "metadata": {},
   "outputs": [],
   "source": [
    "df= pd.concat([pd.read_excel(f) for f in all_filenames ])"
   ]
  },
  {
   "cell_type": "raw",
   "metadata": {},
   "source": [
    "# Array de todas as colunas do Data Frame"
   ]
  },
  {
   "cell_type": "code",
   "execution_count": 16,
   "metadata": {},
   "outputs": [
    {
     "data": {
      "text/plain": [
       "array(['ID_CURSO_ALUNO', 'MATR_ALUNO', 'ID_VERSAO_CURSO', 'NOME_PESSOA',\n",
       "       'COD_CURSO', 'NOME_UNIDADE', 'NUM_VERSAO', 'ID_CURRIC_ALUNO',\n",
       "       'ID_ATIV_CURRIC', 'ANO', 'MEDIA_FINAL', 'SITUACAO_ITEM', 'PERIODO',\n",
       "       'SITUACAO', 'COD_ATIV_CURRIC', 'NOME_ATIV_CURRIC', 'CREDITOS',\n",
       "       'CH_TOTAL', 'ID_LOCAL_DISPENSA', 'CONCEITO', 'ID_NOTA',\n",
       "       'DOC_RECONHECIMENTO', 'DESCR_ESTRUTURA', 'CLASS_ATIV_ITEM',\n",
       "       'FORMA_EVASAO', 'NOME_CURSO_DIPLOMA', 'CH_MINIMA'], dtype=object)"
      ]
     },
     "execution_count": 16,
     "metadata": {},
     "output_type": "execute_result"
    }
   ],
   "source": [
    "df.columns.values"
   ]
  },
  {
   "cell_type": "raw",
   "metadata": {},
   "source": [
    "# Aqui será selecionado as colunas que serão utilizadas para análise e passadas como parâmetro para o método do pandas denominado \"filter\"."
   ]
  },
  {
   "cell_type": "code",
   "execution_count": 17,
   "metadata": {},
   "outputs": [],
   "source": [
    "dff=['ANO', 'MEDIA_FINAL','PERIODO'\n",
    "       'SITUACAO', 'NOME_ATIV_CURRIC',\n",
    "       'FORMA_EVASAO']"
   ]
  },
  {
   "cell_type": "markdown",
   "metadata": {},
   "source": [
    "Nota: Trabalhar com a filtragem é extremamente importante para visualizar no dataframe apenas colunas que se deseja analisar neste momento inicial, além não consumir os recursos computacionais em máquinas mais modestas."
   ]
  },
  {
   "cell_type": "code",
   "execution_count": 18,
   "metadata": {},
   "outputs": [
    {
     "data": {
      "text/html": [
       "<div>\n",
       "<style scoped>\n",
       "    .dataframe tbody tr th:only-of-type {\n",
       "        vertical-align: middle;\n",
       "    }\n",
       "\n",
       "    .dataframe tbody tr th {\n",
       "        vertical-align: top;\n",
       "    }\n",
       "\n",
       "    .dataframe thead th {\n",
       "        text-align: right;\n",
       "    }\n",
       "</style>\n",
       "<table border=\"1\" class=\"dataframe\">\n",
       "  <thead>\n",
       "    <tr style=\"text-align: right;\">\n",
       "      <th></th>\n",
       "      <th>ANO</th>\n",
       "      <th>MEDIA_FINAL</th>\n",
       "      <th>NOME_ATIV_CURRIC</th>\n",
       "      <th>FORMA_EVASAO</th>\n",
       "    </tr>\n",
       "  </thead>\n",
       "  <tbody>\n",
       "    <tr>\n",
       "      <th>0</th>\n",
       "      <td>2014</td>\n",
       "      <td>8.17</td>\n",
       "      <td>REDACAO TECNICA</td>\n",
       "      <td>Formado</td>\n",
       "    </tr>\n",
       "    <tr>\n",
       "      <th>1</th>\n",
       "      <td>2014</td>\n",
       "      <td>7.90</td>\n",
       "      <td>INTRODUÇÃO AO PROCESSAMENTO PARALELO</td>\n",
       "      <td>Formado</td>\n",
       "    </tr>\n",
       "    <tr>\n",
       "      <th>2</th>\n",
       "      <td>2014</td>\n",
       "      <td>9.50</td>\n",
       "      <td>COMPUTAÇÃO E CIDADANIA</td>\n",
       "      <td>Formado</td>\n",
       "    </tr>\n",
       "    <tr>\n",
       "      <th>3</th>\n",
       "      <td>2014</td>\n",
       "      <td>8.50</td>\n",
       "      <td>LIBRAS</td>\n",
       "      <td>Formado</td>\n",
       "    </tr>\n",
       "    <tr>\n",
       "      <th>4</th>\n",
       "      <td>2014</td>\n",
       "      <td>7.08</td>\n",
       "      <td>ESTRUTURAS DE DADOS II</td>\n",
       "      <td>Formado</td>\n",
       "    </tr>\n",
       "    <tr>\n",
       "      <th>...</th>\n",
       "      <td>...</td>\n",
       "      <td>...</td>\n",
       "      <td>...</td>\n",
       "      <td>...</td>\n",
       "    </tr>\n",
       "    <tr>\n",
       "      <th>1038</th>\n",
       "      <td>2018</td>\n",
       "      <td>0.00</td>\n",
       "      <td>GEOMETRIA ANALITICA</td>\n",
       "      <td>Aluno Regular</td>\n",
       "    </tr>\n",
       "    <tr>\n",
       "      <th>1039</th>\n",
       "      <td>2018</td>\n",
       "      <td>0.00</td>\n",
       "      <td>LOGICA MATEMATICA</td>\n",
       "      <td>Aluno Regular</td>\n",
       "    </tr>\n",
       "    <tr>\n",
       "      <th>1040</th>\n",
       "      <td>2018</td>\n",
       "      <td>0.00</td>\n",
       "      <td>Atividades Culturais e Artísticas, Sociais e d...</td>\n",
       "      <td>Formado</td>\n",
       "    </tr>\n",
       "    <tr>\n",
       "      <th>1041</th>\n",
       "      <td>2018</td>\n",
       "      <td>7.10</td>\n",
       "      <td>IHC- INTERACAO HUMANO-COMPUTADOR</td>\n",
       "      <td>Formado</td>\n",
       "    </tr>\n",
       "    <tr>\n",
       "      <th>1042</th>\n",
       "      <td>2018</td>\n",
       "      <td>6.34</td>\n",
       "      <td>LIBRAS</td>\n",
       "      <td>Formado</td>\n",
       "    </tr>\n",
       "  </tbody>\n",
       "</table>\n",
       "<p>7719 rows × 4 columns</p>\n",
       "</div>"
      ],
      "text/plain": [
       "       ANO  MEDIA_FINAL                                   NOME_ATIV_CURRIC  \\\n",
       "0     2014         8.17                                    REDACAO TECNICA   \n",
       "1     2014         7.90               INTRODUÇÃO AO PROCESSAMENTO PARALELO   \n",
       "2     2014         9.50                             COMPUTAÇÃO E CIDADANIA   \n",
       "3     2014         8.50                                             LIBRAS   \n",
       "4     2014         7.08                             ESTRUTURAS DE DADOS II   \n",
       "...    ...          ...                                                ...   \n",
       "1038  2018         0.00                                GEOMETRIA ANALITICA   \n",
       "1039  2018         0.00                                  LOGICA MATEMATICA   \n",
       "1040  2018         0.00  Atividades Culturais e Artísticas, Sociais e d...   \n",
       "1041  2018         7.10                   IHC- INTERACAO HUMANO-COMPUTADOR   \n",
       "1042  2018         6.34                                             LIBRAS   \n",
       "\n",
       "       FORMA_EVASAO  \n",
       "0           Formado  \n",
       "1           Formado  \n",
       "2           Formado  \n",
       "3           Formado  \n",
       "4           Formado  \n",
       "...             ...  \n",
       "1038  Aluno Regular  \n",
       "1039  Aluno Regular  \n",
       "1040        Formado  \n",
       "1041        Formado  \n",
       "1042        Formado  \n",
       "\n",
       "[7719 rows x 4 columns]"
      ]
     },
     "execution_count": 18,
     "metadata": {},
     "output_type": "execute_result"
    }
   ],
   "source": [
    "df.filter(items=dff)"
   ]
  },
  {
   "cell_type": "markdown",
   "metadata": {},
   "source": [
    "Pelo tamanho do DataFrame, não é exibido toda a informação em íntegra"
   ]
  },
  {
   "cell_type": "raw",
   "metadata": {},
   "source": [
    "# Método para selecionar 100 linhas do dataFrame"
   ]
  },
  {
   "cell_type": "code",
   "execution_count": 19,
   "metadata": {},
   "outputs": [
    {
     "data": {
      "text/html": [
       "<div>\n",
       "<style scoped>\n",
       "    .dataframe tbody tr th:only-of-type {\n",
       "        vertical-align: middle;\n",
       "    }\n",
       "\n",
       "    .dataframe tbody tr th {\n",
       "        vertical-align: top;\n",
       "    }\n",
       "\n",
       "    .dataframe thead th {\n",
       "        text-align: right;\n",
       "    }\n",
       "</style>\n",
       "<table border=\"1\" class=\"dataframe\">\n",
       "  <thead>\n",
       "    <tr style=\"text-align: right;\">\n",
       "      <th></th>\n",
       "      <th>ID_CURSO_ALUNO</th>\n",
       "      <th>MATR_ALUNO</th>\n",
       "      <th>ID_VERSAO_CURSO</th>\n",
       "      <th>NOME_PESSOA</th>\n",
       "      <th>COD_CURSO</th>\n",
       "      <th>NOME_UNIDADE</th>\n",
       "      <th>NUM_VERSAO</th>\n",
       "      <th>ID_CURRIC_ALUNO</th>\n",
       "      <th>ID_ATIV_CURRIC</th>\n",
       "      <th>ANO</th>\n",
       "      <th>...</th>\n",
       "      <th>CH_TOTAL</th>\n",
       "      <th>ID_LOCAL_DISPENSA</th>\n",
       "      <th>CONCEITO</th>\n",
       "      <th>ID_NOTA</th>\n",
       "      <th>DOC_RECONHECIMENTO</th>\n",
       "      <th>DESCR_ESTRUTURA</th>\n",
       "      <th>CLASS_ATIV_ITEM</th>\n",
       "      <th>FORMA_EVASAO</th>\n",
       "      <th>NOME_CURSO_DIPLOMA</th>\n",
       "      <th>CH_MINIMA</th>\n",
       "    </tr>\n",
       "  </thead>\n",
       "  <tbody>\n",
       "    <tr>\n",
       "      <th>0</th>\n",
       "      <td>203091</td>\n",
       "      <td>91010099</td>\n",
       "      <td>101608</td>\n",
       "      <td>GABRIEL ESCOBAR VASQUES</td>\n",
       "      <td>ALCC</td>\n",
       "      <td>CURSO DE CIENCIA DA COMPUTACAO</td>\n",
       "      <td>2009</td>\n",
       "      <td>8709355</td>\n",
       "      <td>81091</td>\n",
       "      <td>2014</td>\n",
       "      <td>...</td>\n",
       "      <td>45</td>\n",
       "      <td>0</td>\n",
       "      <td>NaN</td>\n",
       "      <td>1</td>\n",
       "      <td>Portaria MEC nº 1.094 de 24/12/2015.</td>\n",
       "      <td>Disciplina Complementar de Graduacao</td>\n",
       "      <td>1</td>\n",
       "      <td>Formado</td>\n",
       "      <td>Ciência da Computação</td>\n",
       "      <td>600</td>\n",
       "    </tr>\n",
       "    <tr>\n",
       "      <th>1</th>\n",
       "      <td>203091</td>\n",
       "      <td>91010099</td>\n",
       "      <td>101608</td>\n",
       "      <td>GABRIEL ESCOBAR VASQUES</td>\n",
       "      <td>ALCC</td>\n",
       "      <td>CURSO DE CIENCIA DA COMPUTACAO</td>\n",
       "      <td>2009</td>\n",
       "      <td>8709358</td>\n",
       "      <td>83998</td>\n",
       "      <td>2014</td>\n",
       "      <td>...</td>\n",
       "      <td>60</td>\n",
       "      <td>0</td>\n",
       "      <td>NaN</td>\n",
       "      <td>1</td>\n",
       "      <td>Portaria MEC nº 1.094 de 24/12/2015.</td>\n",
       "      <td>Disciplina Complementar de Graduacao</td>\n",
       "      <td>1</td>\n",
       "      <td>Formado</td>\n",
       "      <td>Ciência da Computação</td>\n",
       "      <td>600</td>\n",
       "    </tr>\n",
       "    <tr>\n",
       "      <th>2</th>\n",
       "      <td>203091</td>\n",
       "      <td>91010099</td>\n",
       "      <td>101608</td>\n",
       "      <td>GABRIEL ESCOBAR VASQUES</td>\n",
       "      <td>ALCC</td>\n",
       "      <td>CURSO DE CIENCIA DA COMPUTACAO</td>\n",
       "      <td>2009</td>\n",
       "      <td>8709356</td>\n",
       "      <td>85299</td>\n",
       "      <td>2014</td>\n",
       "      <td>...</td>\n",
       "      <td>30</td>\n",
       "      <td>0</td>\n",
       "      <td>NaN</td>\n",
       "      <td>1</td>\n",
       "      <td>Portaria MEC nº 1.094 de 24/12/2015.</td>\n",
       "      <td>Disciplina Complementar de Graduacao</td>\n",
       "      <td>1</td>\n",
       "      <td>Formado</td>\n",
       "      <td>Ciência da Computação</td>\n",
       "      <td>600</td>\n",
       "    </tr>\n",
       "    <tr>\n",
       "      <th>3</th>\n",
       "      <td>203091</td>\n",
       "      <td>91010099</td>\n",
       "      <td>101608</td>\n",
       "      <td>GABRIEL ESCOBAR VASQUES</td>\n",
       "      <td>ALCC</td>\n",
       "      <td>CURSO DE CIENCIA DA COMPUTACAO</td>\n",
       "      <td>2009</td>\n",
       "      <td>8739568</td>\n",
       "      <td>85748</td>\n",
       "      <td>2014</td>\n",
       "      <td>...</td>\n",
       "      <td>60</td>\n",
       "      <td>0</td>\n",
       "      <td>NaN</td>\n",
       "      <td>1</td>\n",
       "      <td>Portaria MEC nº 1.094 de 24/12/2015.</td>\n",
       "      <td>Disciplina Complementar de Graduacao</td>\n",
       "      <td>1</td>\n",
       "      <td>Formado</td>\n",
       "      <td>Ciência da Computação</td>\n",
       "      <td>600</td>\n",
       "    </tr>\n",
       "    <tr>\n",
       "      <th>4</th>\n",
       "      <td>203091</td>\n",
       "      <td>91010099</td>\n",
       "      <td>101608</td>\n",
       "      <td>GABRIEL ESCOBAR VASQUES</td>\n",
       "      <td>ALCC</td>\n",
       "      <td>CURSO DE CIENCIA DA COMPUTACAO</td>\n",
       "      <td>2009</td>\n",
       "      <td>8709357</td>\n",
       "      <td>80685</td>\n",
       "      <td>2014</td>\n",
       "      <td>...</td>\n",
       "      <td>60</td>\n",
       "      <td>0</td>\n",
       "      <td>NaN</td>\n",
       "      <td>1</td>\n",
       "      <td>Portaria MEC nº 1.094 de 24/12/2015.</td>\n",
       "      <td>Fundamentos da Computacao</td>\n",
       "      <td>1</td>\n",
       "      <td>Formado</td>\n",
       "      <td>Ciência da Computação</td>\n",
       "      <td>840</td>\n",
       "    </tr>\n",
       "    <tr>\n",
       "      <th>...</th>\n",
       "      <td>...</td>\n",
       "      <td>...</td>\n",
       "      <td>...</td>\n",
       "      <td>...</td>\n",
       "      <td>...</td>\n",
       "      <td>...</td>\n",
       "      <td>...</td>\n",
       "      <td>...</td>\n",
       "      <td>...</td>\n",
       "      <td>...</td>\n",
       "      <td>...</td>\n",
       "      <td>...</td>\n",
       "      <td>...</td>\n",
       "      <td>...</td>\n",
       "      <td>...</td>\n",
       "      <td>...</td>\n",
       "      <td>...</td>\n",
       "      <td>...</td>\n",
       "      <td>...</td>\n",
       "      <td>...</td>\n",
       "      <td>...</td>\n",
       "    </tr>\n",
       "    <tr>\n",
       "      <th>95</th>\n",
       "      <td>211246</td>\n",
       "      <td>111151968</td>\n",
       "      <td>101608</td>\n",
       "      <td>FABIANO CASSOL DE VARGAS</td>\n",
       "      <td>ALCC</td>\n",
       "      <td>CURSO DE CIENCIA DA COMPUTACAO</td>\n",
       "      <td>2009</td>\n",
       "      <td>8708430</td>\n",
       "      <td>80719</td>\n",
       "      <td>2014</td>\n",
       "      <td>...</td>\n",
       "      <td>120</td>\n",
       "      <td>0</td>\n",
       "      <td>NaN</td>\n",
       "      <td>1</td>\n",
       "      <td>Portaria MEC nº 1.094 de 24/12/2015.</td>\n",
       "      <td>Trabalho de Conclusao de Curso</td>\n",
       "      <td>1</td>\n",
       "      <td>Formado</td>\n",
       "      <td>Ciência da Computação</td>\n",
       "      <td>210</td>\n",
       "    </tr>\n",
       "    <tr>\n",
       "      <th>96</th>\n",
       "      <td>211263</td>\n",
       "      <td>111151985</td>\n",
       "      <td>101608</td>\n",
       "      <td>SERGIO ARTHUR DE LA HIDALGA CRESPO NETO</td>\n",
       "      <td>ALCC</td>\n",
       "      <td>CURSO DE CIENCIA DA COMPUTACAO</td>\n",
       "      <td>2009</td>\n",
       "      <td>8709548</td>\n",
       "      <td>84928</td>\n",
       "      <td>2014</td>\n",
       "      <td>...</td>\n",
       "      <td>30</td>\n",
       "      <td>0</td>\n",
       "      <td>NaN</td>\n",
       "      <td>1</td>\n",
       "      <td>Portaria MEC nº 1.094 de 24/12/2015.</td>\n",
       "      <td>Disciplina Complementar de Graduacao</td>\n",
       "      <td>1</td>\n",
       "      <td>Formado</td>\n",
       "      <td>Ciência da Computação</td>\n",
       "      <td>600</td>\n",
       "    </tr>\n",
       "    <tr>\n",
       "      <th>97</th>\n",
       "      <td>211263</td>\n",
       "      <td>111151985</td>\n",
       "      <td>101608</td>\n",
       "      <td>SERGIO ARTHUR DE LA HIDALGA CRESPO NETO</td>\n",
       "      <td>ALCC</td>\n",
       "      <td>CURSO DE CIENCIA DA COMPUTACAO</td>\n",
       "      <td>2009</td>\n",
       "      <td>8709547</td>\n",
       "      <td>85299</td>\n",
       "      <td>2014</td>\n",
       "      <td>...</td>\n",
       "      <td>30</td>\n",
       "      <td>0</td>\n",
       "      <td>NaN</td>\n",
       "      <td>1</td>\n",
       "      <td>Portaria MEC nº 1.094 de 24/12/2015.</td>\n",
       "      <td>Disciplina Complementar de Graduacao</td>\n",
       "      <td>1</td>\n",
       "      <td>Formado</td>\n",
       "      <td>Ciência da Computação</td>\n",
       "      <td>600</td>\n",
       "    </tr>\n",
       "    <tr>\n",
       "      <th>98</th>\n",
       "      <td>211263</td>\n",
       "      <td>111151985</td>\n",
       "      <td>101608</td>\n",
       "      <td>SERGIO ARTHUR DE LA HIDALGA CRESPO NETO</td>\n",
       "      <td>ALCC</td>\n",
       "      <td>CURSO DE CIENCIA DA COMPUTACAO</td>\n",
       "      <td>2009</td>\n",
       "      <td>8709546</td>\n",
       "      <td>80697</td>\n",
       "      <td>2014</td>\n",
       "      <td>...</td>\n",
       "      <td>60</td>\n",
       "      <td>0</td>\n",
       "      <td>NaN</td>\n",
       "      <td>1</td>\n",
       "      <td>Portaria MEC nº 1.094 de 24/12/2015.</td>\n",
       "      <td>Fundamentos da Computacao</td>\n",
       "      <td>1</td>\n",
       "      <td>Formado</td>\n",
       "      <td>Ciência da Computação</td>\n",
       "      <td>840</td>\n",
       "    </tr>\n",
       "    <tr>\n",
       "      <th>99</th>\n",
       "      <td>211263</td>\n",
       "      <td>111151985</td>\n",
       "      <td>101608</td>\n",
       "      <td>SERGIO ARTHUR DE LA HIDALGA CRESPO NETO</td>\n",
       "      <td>ALCC</td>\n",
       "      <td>CURSO DE CIENCIA DA COMPUTACAO</td>\n",
       "      <td>2009</td>\n",
       "      <td>8709542</td>\n",
       "      <td>80698</td>\n",
       "      <td>2014</td>\n",
       "      <td>...</td>\n",
       "      <td>60</td>\n",
       "      <td>0</td>\n",
       "      <td>NaN</td>\n",
       "      <td>1</td>\n",
       "      <td>Portaria MEC nº 1.094 de 24/12/2015.</td>\n",
       "      <td>Fundamentos da Computacao</td>\n",
       "      <td>1</td>\n",
       "      <td>Formado</td>\n",
       "      <td>Ciência da Computação</td>\n",
       "      <td>840</td>\n",
       "    </tr>\n",
       "  </tbody>\n",
       "</table>\n",
       "<p>100 rows × 27 columns</p>\n",
       "</div>"
      ],
      "text/plain": [
       "    ID_CURSO_ALUNO  MATR_ALUNO  ID_VERSAO_CURSO  \\\n",
       "0           203091    91010099           101608   \n",
       "1           203091    91010099           101608   \n",
       "2           203091    91010099           101608   \n",
       "3           203091    91010099           101608   \n",
       "4           203091    91010099           101608   \n",
       "..             ...         ...              ...   \n",
       "95          211246   111151968           101608   \n",
       "96          211263   111151985           101608   \n",
       "97          211263   111151985           101608   \n",
       "98          211263   111151985           101608   \n",
       "99          211263   111151985           101608   \n",
       "\n",
       "                                NOME_PESSOA COD_CURSO  \\\n",
       "0                   GABRIEL ESCOBAR VASQUES      ALCC   \n",
       "1                   GABRIEL ESCOBAR VASQUES      ALCC   \n",
       "2                   GABRIEL ESCOBAR VASQUES      ALCC   \n",
       "3                   GABRIEL ESCOBAR VASQUES      ALCC   \n",
       "4                   GABRIEL ESCOBAR VASQUES      ALCC   \n",
       "..                                      ...       ...   \n",
       "95                 FABIANO CASSOL DE VARGAS      ALCC   \n",
       "96  SERGIO ARTHUR DE LA HIDALGA CRESPO NETO      ALCC   \n",
       "97  SERGIO ARTHUR DE LA HIDALGA CRESPO NETO      ALCC   \n",
       "98  SERGIO ARTHUR DE LA HIDALGA CRESPO NETO      ALCC   \n",
       "99  SERGIO ARTHUR DE LA HIDALGA CRESPO NETO      ALCC   \n",
       "\n",
       "                      NOME_UNIDADE  NUM_VERSAO  ID_CURRIC_ALUNO  \\\n",
       "0   CURSO DE CIENCIA DA COMPUTACAO        2009          8709355   \n",
       "1   CURSO DE CIENCIA DA COMPUTACAO        2009          8709358   \n",
       "2   CURSO DE CIENCIA DA COMPUTACAO        2009          8709356   \n",
       "3   CURSO DE CIENCIA DA COMPUTACAO        2009          8739568   \n",
       "4   CURSO DE CIENCIA DA COMPUTACAO        2009          8709357   \n",
       "..                             ...         ...              ...   \n",
       "95  CURSO DE CIENCIA DA COMPUTACAO        2009          8708430   \n",
       "96  CURSO DE CIENCIA DA COMPUTACAO        2009          8709548   \n",
       "97  CURSO DE CIENCIA DA COMPUTACAO        2009          8709547   \n",
       "98  CURSO DE CIENCIA DA COMPUTACAO        2009          8709546   \n",
       "99  CURSO DE CIENCIA DA COMPUTACAO        2009          8709542   \n",
       "\n",
       "    ID_ATIV_CURRIC   ANO  ...  CH_TOTAL  ID_LOCAL_DISPENSA CONCEITO ID_NOTA  \\\n",
       "0            81091  2014  ...        45                  0      NaN       1   \n",
       "1            83998  2014  ...        60                  0      NaN       1   \n",
       "2            85299  2014  ...        30                  0      NaN       1   \n",
       "3            85748  2014  ...        60                  0      NaN       1   \n",
       "4            80685  2014  ...        60                  0      NaN       1   \n",
       "..             ...   ...  ...       ...                ...      ...     ...   \n",
       "95           80719  2014  ...       120                  0      NaN       1   \n",
       "96           84928  2014  ...        30                  0      NaN       1   \n",
       "97           85299  2014  ...        30                  0      NaN       1   \n",
       "98           80697  2014  ...        60                  0      NaN       1   \n",
       "99           80698  2014  ...        60                  0      NaN       1   \n",
       "\n",
       "                      DOC_RECONHECIMENTO  \\\n",
       "0   Portaria MEC nº 1.094 de 24/12/2015.   \n",
       "1   Portaria MEC nº 1.094 de 24/12/2015.   \n",
       "2   Portaria MEC nº 1.094 de 24/12/2015.   \n",
       "3   Portaria MEC nº 1.094 de 24/12/2015.   \n",
       "4   Portaria MEC nº 1.094 de 24/12/2015.   \n",
       "..                                   ...   \n",
       "95  Portaria MEC nº 1.094 de 24/12/2015.   \n",
       "96  Portaria MEC nº 1.094 de 24/12/2015.   \n",
       "97  Portaria MEC nº 1.094 de 24/12/2015.   \n",
       "98  Portaria MEC nº 1.094 de 24/12/2015.   \n",
       "99  Portaria MEC nº 1.094 de 24/12/2015.   \n",
       "\n",
       "                         DESCR_ESTRUTURA  CLASS_ATIV_ITEM  FORMA_EVASAO  \\\n",
       "0   Disciplina Complementar de Graduacao                1       Formado   \n",
       "1   Disciplina Complementar de Graduacao                1       Formado   \n",
       "2   Disciplina Complementar de Graduacao                1       Formado   \n",
       "3   Disciplina Complementar de Graduacao                1       Formado   \n",
       "4              Fundamentos da Computacao                1       Formado   \n",
       "..                                   ...              ...           ...   \n",
       "95        Trabalho de Conclusao de Curso                1       Formado   \n",
       "96  Disciplina Complementar de Graduacao                1       Formado   \n",
       "97  Disciplina Complementar de Graduacao                1       Formado   \n",
       "98             Fundamentos da Computacao                1       Formado   \n",
       "99             Fundamentos da Computacao                1       Formado   \n",
       "\n",
       "       NOME_CURSO_DIPLOMA  CH_MINIMA  \n",
       "0   Ciência da Computação        600  \n",
       "1   Ciência da Computação        600  \n",
       "2   Ciência da Computação        600  \n",
       "3   Ciência da Computação        600  \n",
       "4   Ciência da Computação        840  \n",
       "..                    ...        ...  \n",
       "95  Ciência da Computação        210  \n",
       "96  Ciência da Computação        600  \n",
       "97  Ciência da Computação        600  \n",
       "98  Ciência da Computação        840  \n",
       "99  Ciência da Computação        840  \n",
       "\n",
       "[100 rows x 27 columns]"
      ]
     },
     "execution_count": 19,
     "metadata": {},
     "output_type": "execute_result"
    }
   ],
   "source": [
    "df[0:100]"
   ]
  },
  {
   "cell_type": "raw",
   "metadata": {},
   "source": [
    "# Agrupamento de uma atividade curricular específica, pela coluna situação e período\n",
    "\n",
    "Nota: Os agrupamentos são importante para se responder alguma questão de pesquisa da análise de dados, ajudando nos \"insights\" iniciais"
   ]
  },
  {
   "cell_type": "code",
   "execution_count": 20,
   "metadata": {},
   "outputs": [
    {
     "data": {
      "text/plain": [
       "SITUACAO    PERIODO    \n",
       "Aprovado    1. Semestre    3\n",
       "Dispensado  1. Semestre    3\n",
       "            2. Semestre    3\n",
       "Repr.Freq   1. Semestre    2\n",
       "Reprovado   1. Semestre    2\n",
       "            2. Semestre    3\n",
       "dtype: int64"
      ]
     },
     "execution_count": 20,
     "metadata": {},
     "output_type": "execute_result"
    }
   ],
   "source": [
    "df.query('NOME_ATIV_CURRIC==\"FISICA I\"').groupby(['SITUACAO', 'PERIODO']).size()"
   ]
  },
  {
   "cell_type": "raw",
   "metadata": {},
   "source": [
    "# Plotagem de gráfico interativo simples utilizando a biblioteca Plotly"
   ]
  },
  {
   "cell_type": "code",
   "execution_count": 61,
   "metadata": {},
   "outputs": [],
   "source": [
    "re = df[df['FORMA_EVASAO']=='Aluno Regular']['SITUACAO'].value_counts()\n",
    "ab= df[df['FORMA_EVASAO']=='Abandono']['SITUACAO'].value_counts()\n",
    "fo = df[df['FORMA_EVASAO']=='Formado']['SITUACAO'].value_counts()\n",
    "ca=df[df['FORMA_EVASAO']=='Cancelamento']['SITUACAO'].value_counts()\n",
    "tra=df[df['FORMA_EVASAO']=='Transf. Interna Por Reopção de Curso']['SITUACAO'].value_counts()\n",
    "ta=df[df['FORMA_EVASAO']=='Transferido']['SITUACAO'].value_counts()\n",
    "des=df[df['FORMA_EVASAO']=='Desligamento']['SITUACAO'].value_counts()\n",
    "df1 = pd.DataFrame([re,ab,fo,ca, tra, ta, des])"
   ]
  },
  {
   "cell_type": "code",
   "execution_count": 79,
   "metadata": {},
   "outputs": [
    {
     "data": {
      "application/vnd.plotly.v1+json": {
       "config": {
        "plotlyServerURL": "https://plot.ly"
       },
       "data": [
        {
         "name": "Aluno Regular",
         "type": "bar",
         "x": [
          "Aprovado",
          "Reprovado",
          "Repr.Freq",
          "Dispensado",
          "Apr.S.Nota",
          "Tr.Parcial",
          "Trt. Total"
         ],
         "y": [
          2224,
          774,
          597,
          175,
          107,
          74,
          16
         ]
        },
        {
         "name": "Abandono",
         "type": "bar",
         "x": [
          "Aprovado",
          "Reprovado",
          "Repr.Freq",
          "Dispensado",
          "Apr.S.Nota",
          "Tr.Parcial",
          "Trt. Total"
         ],
         "y": [
          614,
          391,
          296,
          53,
          38,
          29
         ]
        },
        {
         "name": "Formado",
         "type": "bar",
         "x": [
          "Aprovado",
          "Reprovado",
          "Repr.Freq",
          "Dispensado",
          "Apr.S.Nota",
          "Tr.Parcial",
          "Trt. Total"
         ],
         "y": [
          735,
          194,
          96,
          90,
          29,
          22,
          1
         ]
        },
        {
         "name": "Cancelamento",
         "type": "bar",
         "x": [
          "Aprovado",
          "Reprovado",
          "Repr.Freq",
          "Dispensado",
          "Apr.S.Nota",
          "Tr.Parcial",
          "Trt. Total"
         ],
         "y": [
          139,
          119,
          96,
          11,
          2
         ]
        },
        {
         "name": "Transf. Interna Por Reopção de Curso",
         "type": "bar",
         "x": [
          "Aprovado",
          "Reprovado",
          "Repr.Freq",
          "Dispensado",
          "Apr.S.Nota",
          "Tr.Parcial",
          "Trt. Total"
         ],
         "y": [
          57,
          29,
          22,
          8
         ]
        },
        {
         "name": "Transferido",
         "type": "bar",
         "x": [
          "Aprovado",
          "Reprovado",
          "Repr.Freq",
          "Dispensado",
          "Apr.S.Nota",
          "Tr.Parcial",
          "Trt. Total"
         ],
         "y": [
          49,
          10,
          4,
          3,
          3
         ]
        },
        {
         "name": "Desligamento",
         "type": "bar",
         "x": [
          "Aprovado",
          "Reprovado",
          "Repr.Freq",
          "Dispensado",
          "Apr.S.Nota",
          "Tr.Parcial",
          "Trt. Total"
         ],
         "y": [
          310,
          103,
          70,
          65,
          12,
          3,
          1
         ]
        }
       ],
       "layout": {
        "barmode": "stack",
        "template": {
         "data": {
          "bar": [
           {
            "error_x": {
             "color": "#f2f5fa"
            },
            "error_y": {
             "color": "#f2f5fa"
            },
            "marker": {
             "line": {
              "color": "rgb(17,17,17)",
              "width": 0.5
             }
            },
            "type": "bar"
           }
          ],
          "barpolar": [
           {
            "marker": {
             "line": {
              "color": "rgb(17,17,17)",
              "width": 0.5
             }
            },
            "type": "barpolar"
           }
          ],
          "carpet": [
           {
            "aaxis": {
             "endlinecolor": "#A2B1C6",
             "gridcolor": "#506784",
             "linecolor": "#506784",
             "minorgridcolor": "#506784",
             "startlinecolor": "#A2B1C6"
            },
            "baxis": {
             "endlinecolor": "#A2B1C6",
             "gridcolor": "#506784",
             "linecolor": "#506784",
             "minorgridcolor": "#506784",
             "startlinecolor": "#A2B1C6"
            },
            "type": "carpet"
           }
          ],
          "choropleth": [
           {
            "colorbar": {
             "outlinewidth": 0,
             "ticks": ""
            },
            "type": "choropleth"
           }
          ],
          "contour": [
           {
            "colorbar": {
             "outlinewidth": 0,
             "ticks": ""
            },
            "colorscale": [
             [
              0,
              "#0d0887"
             ],
             [
              0.1111111111111111,
              "#46039f"
             ],
             [
              0.2222222222222222,
              "#7201a8"
             ],
             [
              0.3333333333333333,
              "#9c179e"
             ],
             [
              0.4444444444444444,
              "#bd3786"
             ],
             [
              0.5555555555555556,
              "#d8576b"
             ],
             [
              0.6666666666666666,
              "#ed7953"
             ],
             [
              0.7777777777777778,
              "#fb9f3a"
             ],
             [
              0.8888888888888888,
              "#fdca26"
             ],
             [
              1,
              "#f0f921"
             ]
            ],
            "type": "contour"
           }
          ],
          "contourcarpet": [
           {
            "colorbar": {
             "outlinewidth": 0,
             "ticks": ""
            },
            "type": "contourcarpet"
           }
          ],
          "heatmap": [
           {
            "colorbar": {
             "outlinewidth": 0,
             "ticks": ""
            },
            "colorscale": [
             [
              0,
              "#0d0887"
             ],
             [
              0.1111111111111111,
              "#46039f"
             ],
             [
              0.2222222222222222,
              "#7201a8"
             ],
             [
              0.3333333333333333,
              "#9c179e"
             ],
             [
              0.4444444444444444,
              "#bd3786"
             ],
             [
              0.5555555555555556,
              "#d8576b"
             ],
             [
              0.6666666666666666,
              "#ed7953"
             ],
             [
              0.7777777777777778,
              "#fb9f3a"
             ],
             [
              0.8888888888888888,
              "#fdca26"
             ],
             [
              1,
              "#f0f921"
             ]
            ],
            "type": "heatmap"
           }
          ],
          "heatmapgl": [
           {
            "colorbar": {
             "outlinewidth": 0,
             "ticks": ""
            },
            "colorscale": [
             [
              0,
              "#0d0887"
             ],
             [
              0.1111111111111111,
              "#46039f"
             ],
             [
              0.2222222222222222,
              "#7201a8"
             ],
             [
              0.3333333333333333,
              "#9c179e"
             ],
             [
              0.4444444444444444,
              "#bd3786"
             ],
             [
              0.5555555555555556,
              "#d8576b"
             ],
             [
              0.6666666666666666,
              "#ed7953"
             ],
             [
              0.7777777777777778,
              "#fb9f3a"
             ],
             [
              0.8888888888888888,
              "#fdca26"
             ],
             [
              1,
              "#f0f921"
             ]
            ],
            "type": "heatmapgl"
           }
          ],
          "histogram": [
           {
            "marker": {
             "colorbar": {
              "outlinewidth": 0,
              "ticks": ""
             }
            },
            "type": "histogram"
           }
          ],
          "histogram2d": [
           {
            "colorbar": {
             "outlinewidth": 0,
             "ticks": ""
            },
            "colorscale": [
             [
              0,
              "#0d0887"
             ],
             [
              0.1111111111111111,
              "#46039f"
             ],
             [
              0.2222222222222222,
              "#7201a8"
             ],
             [
              0.3333333333333333,
              "#9c179e"
             ],
             [
              0.4444444444444444,
              "#bd3786"
             ],
             [
              0.5555555555555556,
              "#d8576b"
             ],
             [
              0.6666666666666666,
              "#ed7953"
             ],
             [
              0.7777777777777778,
              "#fb9f3a"
             ],
             [
              0.8888888888888888,
              "#fdca26"
             ],
             [
              1,
              "#f0f921"
             ]
            ],
            "type": "histogram2d"
           }
          ],
          "histogram2dcontour": [
           {
            "colorbar": {
             "outlinewidth": 0,
             "ticks": ""
            },
            "colorscale": [
             [
              0,
              "#0d0887"
             ],
             [
              0.1111111111111111,
              "#46039f"
             ],
             [
              0.2222222222222222,
              "#7201a8"
             ],
             [
              0.3333333333333333,
              "#9c179e"
             ],
             [
              0.4444444444444444,
              "#bd3786"
             ],
             [
              0.5555555555555556,
              "#d8576b"
             ],
             [
              0.6666666666666666,
              "#ed7953"
             ],
             [
              0.7777777777777778,
              "#fb9f3a"
             ],
             [
              0.8888888888888888,
              "#fdca26"
             ],
             [
              1,
              "#f0f921"
             ]
            ],
            "type": "histogram2dcontour"
           }
          ],
          "mesh3d": [
           {
            "colorbar": {
             "outlinewidth": 0,
             "ticks": ""
            },
            "type": "mesh3d"
           }
          ],
          "parcoords": [
           {
            "line": {
             "colorbar": {
              "outlinewidth": 0,
              "ticks": ""
             }
            },
            "type": "parcoords"
           }
          ],
          "pie": [
           {
            "automargin": true,
            "type": "pie"
           }
          ],
          "scatter": [
           {
            "marker": {
             "line": {
              "color": "#283442"
             }
            },
            "type": "scatter"
           }
          ],
          "scatter3d": [
           {
            "line": {
             "colorbar": {
              "outlinewidth": 0,
              "ticks": ""
             }
            },
            "marker": {
             "colorbar": {
              "outlinewidth": 0,
              "ticks": ""
             }
            },
            "type": "scatter3d"
           }
          ],
          "scattercarpet": [
           {
            "marker": {
             "colorbar": {
              "outlinewidth": 0,
              "ticks": ""
             }
            },
            "type": "scattercarpet"
           }
          ],
          "scattergeo": [
           {
            "marker": {
             "colorbar": {
              "outlinewidth": 0,
              "ticks": ""
             }
            },
            "type": "scattergeo"
           }
          ],
          "scattergl": [
           {
            "marker": {
             "line": {
              "color": "#283442"
             }
            },
            "type": "scattergl"
           }
          ],
          "scattermapbox": [
           {
            "marker": {
             "colorbar": {
              "outlinewidth": 0,
              "ticks": ""
             }
            },
            "type": "scattermapbox"
           }
          ],
          "scatterpolar": [
           {
            "marker": {
             "colorbar": {
              "outlinewidth": 0,
              "ticks": ""
             }
            },
            "type": "scatterpolar"
           }
          ],
          "scatterpolargl": [
           {
            "marker": {
             "colorbar": {
              "outlinewidth": 0,
              "ticks": ""
             }
            },
            "type": "scatterpolargl"
           }
          ],
          "scatterternary": [
           {
            "marker": {
             "colorbar": {
              "outlinewidth": 0,
              "ticks": ""
             }
            },
            "type": "scatterternary"
           }
          ],
          "surface": [
           {
            "colorbar": {
             "outlinewidth": 0,
             "ticks": ""
            },
            "colorscale": [
             [
              0,
              "#0d0887"
             ],
             [
              0.1111111111111111,
              "#46039f"
             ],
             [
              0.2222222222222222,
              "#7201a8"
             ],
             [
              0.3333333333333333,
              "#9c179e"
             ],
             [
              0.4444444444444444,
              "#bd3786"
             ],
             [
              0.5555555555555556,
              "#d8576b"
             ],
             [
              0.6666666666666666,
              "#ed7953"
             ],
             [
              0.7777777777777778,
              "#fb9f3a"
             ],
             [
              0.8888888888888888,
              "#fdca26"
             ],
             [
              1,
              "#f0f921"
             ]
            ],
            "type": "surface"
           }
          ],
          "table": [
           {
            "cells": {
             "fill": {
              "color": "#506784"
             },
             "line": {
              "color": "rgb(17,17,17)"
             }
            },
            "header": {
             "fill": {
              "color": "#2a3f5f"
             },
             "line": {
              "color": "rgb(17,17,17)"
             }
            },
            "type": "table"
           }
          ]
         },
         "layout": {
          "annotationdefaults": {
           "arrowcolor": "#f2f5fa",
           "arrowhead": 0,
           "arrowwidth": 1
          },
          "coloraxis": {
           "colorbar": {
            "outlinewidth": 0,
            "ticks": ""
           }
          },
          "colorscale": {
           "diverging": [
            [
             0,
             "#8e0152"
            ],
            [
             0.1,
             "#c51b7d"
            ],
            [
             0.2,
             "#de77ae"
            ],
            [
             0.3,
             "#f1b6da"
            ],
            [
             0.4,
             "#fde0ef"
            ],
            [
             0.5,
             "#f7f7f7"
            ],
            [
             0.6,
             "#e6f5d0"
            ],
            [
             0.7,
             "#b8e186"
            ],
            [
             0.8,
             "#7fbc41"
            ],
            [
             0.9,
             "#4d9221"
            ],
            [
             1,
             "#276419"
            ]
           ],
           "sequential": [
            [
             0,
             "#0d0887"
            ],
            [
             0.1111111111111111,
             "#46039f"
            ],
            [
             0.2222222222222222,
             "#7201a8"
            ],
            [
             0.3333333333333333,
             "#9c179e"
            ],
            [
             0.4444444444444444,
             "#bd3786"
            ],
            [
             0.5555555555555556,
             "#d8576b"
            ],
            [
             0.6666666666666666,
             "#ed7953"
            ],
            [
             0.7777777777777778,
             "#fb9f3a"
            ],
            [
             0.8888888888888888,
             "#fdca26"
            ],
            [
             1,
             "#f0f921"
            ]
           ],
           "sequentialminus": [
            [
             0,
             "#0d0887"
            ],
            [
             0.1111111111111111,
             "#46039f"
            ],
            [
             0.2222222222222222,
             "#7201a8"
            ],
            [
             0.3333333333333333,
             "#9c179e"
            ],
            [
             0.4444444444444444,
             "#bd3786"
            ],
            [
             0.5555555555555556,
             "#d8576b"
            ],
            [
             0.6666666666666666,
             "#ed7953"
            ],
            [
             0.7777777777777778,
             "#fb9f3a"
            ],
            [
             0.8888888888888888,
             "#fdca26"
            ],
            [
             1,
             "#f0f921"
            ]
           ]
          },
          "colorway": [
           "#636efa",
           "#EF553B",
           "#00cc96",
           "#ab63fa",
           "#FFA15A",
           "#19d3f3",
           "#FF6692",
           "#B6E880",
           "#FF97FF",
           "#FECB52"
          ],
          "font": {
           "color": "#f2f5fa"
          },
          "geo": {
           "bgcolor": "rgb(17,17,17)",
           "lakecolor": "rgb(17,17,17)",
           "landcolor": "rgb(17,17,17)",
           "showlakes": true,
           "showland": true,
           "subunitcolor": "#506784"
          },
          "hoverlabel": {
           "align": "left"
          },
          "hovermode": "closest",
          "mapbox": {
           "style": "dark"
          },
          "paper_bgcolor": "rgb(17,17,17)",
          "plot_bgcolor": "rgb(17,17,17)",
          "polar": {
           "angularaxis": {
            "gridcolor": "#506784",
            "linecolor": "#506784",
            "ticks": ""
           },
           "bgcolor": "rgb(17,17,17)",
           "radialaxis": {
            "gridcolor": "#506784",
            "linecolor": "#506784",
            "ticks": ""
           }
          },
          "scene": {
           "xaxis": {
            "backgroundcolor": "rgb(17,17,17)",
            "gridcolor": "#506784",
            "gridwidth": 2,
            "linecolor": "#506784",
            "showbackground": true,
            "ticks": "",
            "zerolinecolor": "#C8D4E3"
           },
           "yaxis": {
            "backgroundcolor": "rgb(17,17,17)",
            "gridcolor": "#506784",
            "gridwidth": 2,
            "linecolor": "#506784",
            "showbackground": true,
            "ticks": "",
            "zerolinecolor": "#C8D4E3"
           },
           "zaxis": {
            "backgroundcolor": "rgb(17,17,17)",
            "gridcolor": "#506784",
            "gridwidth": 2,
            "linecolor": "#506784",
            "showbackground": true,
            "ticks": "",
            "zerolinecolor": "#C8D4E3"
           }
          },
          "shapedefaults": {
           "line": {
            "color": "#f2f5fa"
           }
          },
          "sliderdefaults": {
           "bgcolor": "#C8D4E3",
           "bordercolor": "rgb(17,17,17)",
           "borderwidth": 1,
           "tickwidth": 0
          },
          "ternary": {
           "aaxis": {
            "gridcolor": "#506784",
            "linecolor": "#506784",
            "ticks": ""
           },
           "baxis": {
            "gridcolor": "#506784",
            "linecolor": "#506784",
            "ticks": ""
           },
           "bgcolor": "rgb(17,17,17)",
           "caxis": {
            "gridcolor": "#506784",
            "linecolor": "#506784",
            "ticks": ""
           }
          },
          "title": {
           "x": 0.05
          },
          "updatemenudefaults": {
           "bgcolor": "#506784",
           "borderwidth": 0
          },
          "xaxis": {
           "automargin": true,
           "gridcolor": "#283442",
           "linecolor": "#506784",
           "ticks": "",
           "title": {
            "standoff": 15
           },
           "zerolinecolor": "#283442",
           "zerolinewidth": 2
          },
          "yaxis": {
           "automargin": true,
           "gridcolor": "#283442",
           "linecolor": "#506784",
           "ticks": "",
           "title": {
            "standoff": 15
           },
           "zerolinecolor": "#283442",
           "zerolinewidth": 2
          }
         }
        },
        "title": {
         "text": "Gráfico dos alunos "
        }
       }
      },
      "text/html": [
       "<div>\n",
       "        \n",
       "        \n",
       "            <div id=\"d8de8f3b-488f-4974-a0b2-4a152d4eb0da\" class=\"plotly-graph-div\" style=\"height:525px; width:100%;\"></div>\n",
       "            <script type=\"text/javascript\">\n",
       "                require([\"plotly\"], function(Plotly) {\n",
       "                    window.PLOTLYENV=window.PLOTLYENV || {};\n",
       "                    \n",
       "                if (document.getElementById(\"d8de8f3b-488f-4974-a0b2-4a152d4eb0da\")) {\n",
       "                    Plotly.newPlot(\n",
       "                        'd8de8f3b-488f-4974-a0b2-4a152d4eb0da',\n",
       "                        [{\"name\": \"Aluno Regular\", \"type\": \"bar\", \"x\": [\"Aprovado\", \"Reprovado\", \"Repr.Freq\", \"Dispensado\", \"Apr.S.Nota\", \"Tr.Parcial\", \"Trt. Total\"], \"y\": [2224, 774, 597, 175, 107, 74, 16]}, {\"name\": \"Abandono\", \"type\": \"bar\", \"x\": [\"Aprovado\", \"Reprovado\", \"Repr.Freq\", \"Dispensado\", \"Apr.S.Nota\", \"Tr.Parcial\", \"Trt. Total\"], \"y\": [614, 391, 296, 53, 38, 29]}, {\"name\": \"Formado\", \"type\": \"bar\", \"x\": [\"Aprovado\", \"Reprovado\", \"Repr.Freq\", \"Dispensado\", \"Apr.S.Nota\", \"Tr.Parcial\", \"Trt. Total\"], \"y\": [735, 194, 96, 90, 29, 22, 1]}, {\"name\": \"Cancelamento\", \"type\": \"bar\", \"x\": [\"Aprovado\", \"Reprovado\", \"Repr.Freq\", \"Dispensado\", \"Apr.S.Nota\", \"Tr.Parcial\", \"Trt. Total\"], \"y\": [139, 119, 96, 11, 2]}, {\"name\": \"Transf. Interna Por Reop\\u00e7\\u00e3o de Curso\", \"type\": \"bar\", \"x\": [\"Aprovado\", \"Reprovado\", \"Repr.Freq\", \"Dispensado\", \"Apr.S.Nota\", \"Tr.Parcial\", \"Trt. Total\"], \"y\": [57, 29, 22, 8]}, {\"name\": \"Transferido\", \"type\": \"bar\", \"x\": [\"Aprovado\", \"Reprovado\", \"Repr.Freq\", \"Dispensado\", \"Apr.S.Nota\", \"Tr.Parcial\", \"Trt. Total\"], \"y\": [49, 10, 4, 3, 3]}, {\"name\": \"Desligamento\", \"type\": \"bar\", \"x\": [\"Aprovado\", \"Reprovado\", \"Repr.Freq\", \"Dispensado\", \"Apr.S.Nota\", \"Tr.Parcial\", \"Trt. Total\"], \"y\": [310, 103, 70, 65, 12, 3, 1]}],\n",
       "                        {\"barmode\": \"stack\", \"template\": {\"data\": {\"bar\": [{\"error_x\": {\"color\": \"#f2f5fa\"}, \"error_y\": {\"color\": \"#f2f5fa\"}, \"marker\": {\"line\": {\"color\": \"rgb(17,17,17)\", \"width\": 0.5}}, \"type\": \"bar\"}], \"barpolar\": [{\"marker\": {\"line\": {\"color\": \"rgb(17,17,17)\", \"width\": 0.5}}, \"type\": \"barpolar\"}], \"carpet\": [{\"aaxis\": {\"endlinecolor\": \"#A2B1C6\", \"gridcolor\": \"#506784\", \"linecolor\": \"#506784\", \"minorgridcolor\": \"#506784\", \"startlinecolor\": \"#A2B1C6\"}, \"baxis\": {\"endlinecolor\": \"#A2B1C6\", \"gridcolor\": \"#506784\", \"linecolor\": \"#506784\", \"minorgridcolor\": \"#506784\", \"startlinecolor\": \"#A2B1C6\"}, \"type\": \"carpet\"}], \"choropleth\": [{\"colorbar\": {\"outlinewidth\": 0, \"ticks\": \"\"}, \"type\": \"choropleth\"}], \"contour\": [{\"colorbar\": {\"outlinewidth\": 0, \"ticks\": \"\"}, \"colorscale\": [[0.0, \"#0d0887\"], [0.1111111111111111, \"#46039f\"], [0.2222222222222222, \"#7201a8\"], [0.3333333333333333, \"#9c179e\"], [0.4444444444444444, \"#bd3786\"], [0.5555555555555556, \"#d8576b\"], [0.6666666666666666, \"#ed7953\"], [0.7777777777777778, \"#fb9f3a\"], [0.8888888888888888, \"#fdca26\"], [1.0, \"#f0f921\"]], \"type\": \"contour\"}], \"contourcarpet\": [{\"colorbar\": {\"outlinewidth\": 0, \"ticks\": \"\"}, \"type\": \"contourcarpet\"}], \"heatmap\": [{\"colorbar\": {\"outlinewidth\": 0, \"ticks\": \"\"}, \"colorscale\": [[0.0, \"#0d0887\"], [0.1111111111111111, \"#46039f\"], [0.2222222222222222, \"#7201a8\"], [0.3333333333333333, \"#9c179e\"], [0.4444444444444444, \"#bd3786\"], [0.5555555555555556, \"#d8576b\"], [0.6666666666666666, \"#ed7953\"], [0.7777777777777778, \"#fb9f3a\"], [0.8888888888888888, \"#fdca26\"], [1.0, \"#f0f921\"]], \"type\": \"heatmap\"}], \"heatmapgl\": [{\"colorbar\": {\"outlinewidth\": 0, \"ticks\": \"\"}, \"colorscale\": [[0.0, \"#0d0887\"], [0.1111111111111111, \"#46039f\"], [0.2222222222222222, \"#7201a8\"], [0.3333333333333333, \"#9c179e\"], [0.4444444444444444, \"#bd3786\"], [0.5555555555555556, \"#d8576b\"], [0.6666666666666666, \"#ed7953\"], [0.7777777777777778, \"#fb9f3a\"], [0.8888888888888888, \"#fdca26\"], [1.0, \"#f0f921\"]], \"type\": \"heatmapgl\"}], \"histogram\": [{\"marker\": {\"colorbar\": {\"outlinewidth\": 0, \"ticks\": \"\"}}, \"type\": \"histogram\"}], \"histogram2d\": [{\"colorbar\": {\"outlinewidth\": 0, \"ticks\": \"\"}, \"colorscale\": [[0.0, \"#0d0887\"], [0.1111111111111111, \"#46039f\"], [0.2222222222222222, \"#7201a8\"], [0.3333333333333333, \"#9c179e\"], [0.4444444444444444, \"#bd3786\"], [0.5555555555555556, \"#d8576b\"], [0.6666666666666666, \"#ed7953\"], [0.7777777777777778, \"#fb9f3a\"], [0.8888888888888888, \"#fdca26\"], [1.0, \"#f0f921\"]], \"type\": \"histogram2d\"}], \"histogram2dcontour\": [{\"colorbar\": {\"outlinewidth\": 0, \"ticks\": \"\"}, \"colorscale\": [[0.0, \"#0d0887\"], [0.1111111111111111, \"#46039f\"], [0.2222222222222222, \"#7201a8\"], [0.3333333333333333, \"#9c179e\"], [0.4444444444444444, \"#bd3786\"], [0.5555555555555556, \"#d8576b\"], [0.6666666666666666, \"#ed7953\"], [0.7777777777777778, \"#fb9f3a\"], [0.8888888888888888, \"#fdca26\"], [1.0, \"#f0f921\"]], \"type\": \"histogram2dcontour\"}], \"mesh3d\": [{\"colorbar\": {\"outlinewidth\": 0, \"ticks\": \"\"}, \"type\": \"mesh3d\"}], \"parcoords\": [{\"line\": {\"colorbar\": {\"outlinewidth\": 0, \"ticks\": \"\"}}, \"type\": \"parcoords\"}], \"pie\": [{\"automargin\": true, \"type\": \"pie\"}], \"scatter\": [{\"marker\": {\"line\": {\"color\": \"#283442\"}}, \"type\": \"scatter\"}], \"scatter3d\": [{\"line\": {\"colorbar\": {\"outlinewidth\": 0, \"ticks\": \"\"}}, \"marker\": {\"colorbar\": {\"outlinewidth\": 0, \"ticks\": \"\"}}, \"type\": \"scatter3d\"}], \"scattercarpet\": [{\"marker\": {\"colorbar\": {\"outlinewidth\": 0, \"ticks\": \"\"}}, \"type\": \"scattercarpet\"}], \"scattergeo\": [{\"marker\": {\"colorbar\": {\"outlinewidth\": 0, \"ticks\": \"\"}}, \"type\": \"scattergeo\"}], \"scattergl\": [{\"marker\": {\"line\": {\"color\": \"#283442\"}}, \"type\": \"scattergl\"}], \"scattermapbox\": [{\"marker\": {\"colorbar\": {\"outlinewidth\": 0, \"ticks\": \"\"}}, \"type\": \"scattermapbox\"}], \"scatterpolar\": [{\"marker\": {\"colorbar\": {\"outlinewidth\": 0, \"ticks\": \"\"}}, \"type\": \"scatterpolar\"}], \"scatterpolargl\": [{\"marker\": {\"colorbar\": {\"outlinewidth\": 0, \"ticks\": \"\"}}, \"type\": \"scatterpolargl\"}], \"scatterternary\": [{\"marker\": {\"colorbar\": {\"outlinewidth\": 0, \"ticks\": \"\"}}, \"type\": \"scatterternary\"}], \"surface\": [{\"colorbar\": {\"outlinewidth\": 0, \"ticks\": \"\"}, \"colorscale\": [[0.0, \"#0d0887\"], [0.1111111111111111, \"#46039f\"], [0.2222222222222222, \"#7201a8\"], [0.3333333333333333, \"#9c179e\"], [0.4444444444444444, \"#bd3786\"], [0.5555555555555556, \"#d8576b\"], [0.6666666666666666, \"#ed7953\"], [0.7777777777777778, \"#fb9f3a\"], [0.8888888888888888, \"#fdca26\"], [1.0, \"#f0f921\"]], \"type\": \"surface\"}], \"table\": [{\"cells\": {\"fill\": {\"color\": \"#506784\"}, \"line\": {\"color\": \"rgb(17,17,17)\"}}, \"header\": {\"fill\": {\"color\": \"#2a3f5f\"}, \"line\": {\"color\": \"rgb(17,17,17)\"}}, \"type\": \"table\"}]}, \"layout\": {\"annotationdefaults\": {\"arrowcolor\": \"#f2f5fa\", \"arrowhead\": 0, \"arrowwidth\": 1}, \"coloraxis\": {\"colorbar\": {\"outlinewidth\": 0, \"ticks\": \"\"}}, \"colorscale\": {\"diverging\": [[0, \"#8e0152\"], [0.1, \"#c51b7d\"], [0.2, \"#de77ae\"], [0.3, \"#f1b6da\"], [0.4, \"#fde0ef\"], [0.5, \"#f7f7f7\"], [0.6, \"#e6f5d0\"], [0.7, \"#b8e186\"], [0.8, \"#7fbc41\"], [0.9, \"#4d9221\"], [1, \"#276419\"]], \"sequential\": [[0.0, \"#0d0887\"], [0.1111111111111111, \"#46039f\"], [0.2222222222222222, \"#7201a8\"], [0.3333333333333333, \"#9c179e\"], [0.4444444444444444, \"#bd3786\"], [0.5555555555555556, \"#d8576b\"], [0.6666666666666666, \"#ed7953\"], [0.7777777777777778, \"#fb9f3a\"], [0.8888888888888888, \"#fdca26\"], [1.0, \"#f0f921\"]], \"sequentialminus\": [[0.0, \"#0d0887\"], [0.1111111111111111, \"#46039f\"], [0.2222222222222222, \"#7201a8\"], [0.3333333333333333, \"#9c179e\"], [0.4444444444444444, \"#bd3786\"], [0.5555555555555556, \"#d8576b\"], [0.6666666666666666, \"#ed7953\"], [0.7777777777777778, \"#fb9f3a\"], [0.8888888888888888, \"#fdca26\"], [1.0, \"#f0f921\"]]}, \"colorway\": [\"#636efa\", \"#EF553B\", \"#00cc96\", \"#ab63fa\", \"#FFA15A\", \"#19d3f3\", \"#FF6692\", \"#B6E880\", \"#FF97FF\", \"#FECB52\"], \"font\": {\"color\": \"#f2f5fa\"}, \"geo\": {\"bgcolor\": \"rgb(17,17,17)\", \"lakecolor\": \"rgb(17,17,17)\", \"landcolor\": \"rgb(17,17,17)\", \"showlakes\": true, \"showland\": true, \"subunitcolor\": \"#506784\"}, \"hoverlabel\": {\"align\": \"left\"}, \"hovermode\": \"closest\", \"mapbox\": {\"style\": \"dark\"}, \"paper_bgcolor\": \"rgb(17,17,17)\", \"plot_bgcolor\": \"rgb(17,17,17)\", \"polar\": {\"angularaxis\": {\"gridcolor\": \"#506784\", \"linecolor\": \"#506784\", \"ticks\": \"\"}, \"bgcolor\": \"rgb(17,17,17)\", \"radialaxis\": {\"gridcolor\": \"#506784\", \"linecolor\": \"#506784\", \"ticks\": \"\"}}, \"scene\": {\"xaxis\": {\"backgroundcolor\": \"rgb(17,17,17)\", \"gridcolor\": \"#506784\", \"gridwidth\": 2, \"linecolor\": \"#506784\", \"showbackground\": true, \"ticks\": \"\", \"zerolinecolor\": \"#C8D4E3\"}, \"yaxis\": {\"backgroundcolor\": \"rgb(17,17,17)\", \"gridcolor\": \"#506784\", \"gridwidth\": 2, \"linecolor\": \"#506784\", \"showbackground\": true, \"ticks\": \"\", \"zerolinecolor\": \"#C8D4E3\"}, \"zaxis\": {\"backgroundcolor\": \"rgb(17,17,17)\", \"gridcolor\": \"#506784\", \"gridwidth\": 2, \"linecolor\": \"#506784\", \"showbackground\": true, \"ticks\": \"\", \"zerolinecolor\": \"#C8D4E3\"}}, \"shapedefaults\": {\"line\": {\"color\": \"#f2f5fa\"}}, \"sliderdefaults\": {\"bgcolor\": \"#C8D4E3\", \"bordercolor\": \"rgb(17,17,17)\", \"borderwidth\": 1, \"tickwidth\": 0}, \"ternary\": {\"aaxis\": {\"gridcolor\": \"#506784\", \"linecolor\": \"#506784\", \"ticks\": \"\"}, \"baxis\": {\"gridcolor\": \"#506784\", \"linecolor\": \"#506784\", \"ticks\": \"\"}, \"bgcolor\": \"rgb(17,17,17)\", \"caxis\": {\"gridcolor\": \"#506784\", \"linecolor\": \"#506784\", \"ticks\": \"\"}}, \"title\": {\"x\": 0.05}, \"updatemenudefaults\": {\"bgcolor\": \"#506784\", \"borderwidth\": 0}, \"xaxis\": {\"automargin\": true, \"gridcolor\": \"#283442\", \"linecolor\": \"#506784\", \"ticks\": \"\", \"title\": {\"standoff\": 15}, \"zerolinecolor\": \"#283442\", \"zerolinewidth\": 2}, \"yaxis\": {\"automargin\": true, \"gridcolor\": \"#283442\", \"linecolor\": \"#506784\", \"ticks\": \"\", \"title\": {\"standoff\": 15}, \"zerolinecolor\": \"#283442\", \"zerolinewidth\": 2}}}, \"title\": {\"text\": \"Gr\\u00e1fico dos alunos \"}},\n",
       "                        {\"responsive\": true}\n",
       "                    ).then(function(){\n",
       "                            \n",
       "var gd = document.getElementById('d8de8f3b-488f-4974-a0b2-4a152d4eb0da');\n",
       "var x = new MutationObserver(function (mutations, observer) {{\n",
       "        var display = window.getComputedStyle(gd).display;\n",
       "        if (!display || display === 'none') {{\n",
       "            console.log([gd, 'removed!']);\n",
       "            Plotly.purge(gd);\n",
       "            observer.disconnect();\n",
       "        }}\n",
       "}});\n",
       "\n",
       "// Listen for the removal of the full notebook cells\n",
       "var notebookContainer = gd.closest('#notebook-container');\n",
       "if (notebookContainer) {{\n",
       "    x.observe(notebookContainer, {childList: true});\n",
       "}}\n",
       "\n",
       "// Listen for the clearing of the current output cell\n",
       "var outputEl = gd.closest('.output');\n",
       "if (outputEl) {{\n",
       "    x.observe(outputEl, {childList: true});\n",
       "}}\n",
       "\n",
       "                        })\n",
       "                };\n",
       "                });\n",
       "            </script>\n",
       "        </div>"
      ]
     },
     "metadata": {},
     "output_type": "display_data"
    }
   ],
   "source": [
    "import plotly.graph_objects as go\n",
    "df1.index = ['Aprovado','Reprovado','Repr.Freq','Dispensado','Apr.S.Nota',\n",
    "             'Tr.Parcial','Trt. Total']\n",
    "fig = go.Figure(data=[\n",
    "   go.Bar(name='Aluno Regular', x=df1.index, y=re),\n",
    "   go.Bar(name='Abandono', x=df1.index, y=ab),\n",
    "   go.Bar(name='Formado', x=df1.index, y=fo),\n",
    "   go.Bar(name='Cancelamento', x=df1.index, y=ca),\n",
    "   go.Bar(name='Transf. Interna Por Reopção de Curso', x=df1.index, y=tra),\n",
    "   go.Bar(name='Transferido', x=df1.index, y=ta),\n",
    "    go.Bar(name='Desligamento', x=df1.index, y=des),\n",
    "])\n",
    "# Change the bar mode\n",
    "for template in [\"plotly_dark\"]:\n",
    "    fig.update_layout(barmode='stack', template=template, title=\"Gráfico dos alunos \")\n",
    "    fig.show()\n",
    "\n"
   ]
  },
  {
   "cell_type": "code",
   "execution_count": null,
   "metadata": {},
   "outputs": [],
   "source": []
  }
 ],
 "metadata": {
  "kernelspec": {
   "display_name": "Python 3",
   "language": "python",
   "name": "python3"
  },
  "language_info": {
   "codemirror_mode": {
    "name": "ipython",
    "version": 3
   },
   "file_extension": ".py",
   "mimetype": "text/x-python",
   "name": "python",
   "nbconvert_exporter": "python",
   "pygments_lexer": "ipython3",
   "version": "3.7.4"
  }
 },
 "nbformat": 4,
 "nbformat_minor": 2
}
